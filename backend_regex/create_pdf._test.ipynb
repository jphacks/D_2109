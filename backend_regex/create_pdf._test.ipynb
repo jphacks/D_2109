{
 "cells": [
  {
   "cell_type": "code",
   "execution_count": 6,
   "metadata": {},
   "outputs": [],
   "source": [
    "import fitz"
   ]
  },
  {
   "cell_type": "code",
   "execution_count": 34,
   "metadata": {},
   "outputs": [],
   "source": [
    "rule = {\"style_check\": {\n",
    "        \"blank_format\": {\n",
    "            \"action\": True\n",
    "        },\n",
    "        \"indent\": {\n",
    "            \"type\": \" \",\n",
    "            \"num\": 4,\n",
    "            \"tab_num\": 4\n",
    "        },\n",
    "        \"count_word\": {\n",
    "            \"action\": True,\n",
    "            \"length\": 80\n",
    "        },\n",
    "        \"line_space\": {\n",
    "            \"class_or_global_func\": {\n",
    "                \"action\": True\n",
    "            },\n",
    "            \"method\": {\n",
    "                \"action\": True\n",
    "            }\n",
    "        }\n",
    "    },\n",
    "    \"naming_check\": {\n",
    "        \"class_case\": {\n",
    "            \"snake\": False,\n",
    "            \"CapWords\": True\n",
    "        },\n",
    "        \"method_case\": {\n",
    "            \"snake\": True,\n",
    "            \"CapWords\": False\n",
    "        },\n",
    "        \"value_case\": {\n",
    "            \"snake\": True,\n",
    "            \"CapWords\": False\n",
    "        }\n",
    "    },\n",
    "    \"import_check\": {\n",
    "        \"grouping\": False,\n",
    "        \"sorting\": True\n",
    "    }\n",
    "}"
   ]
  },
  {
   "cell_type": "code",
   "execution_count": null,
   "metadata": {},
   "outputs": [],
   "source": []
  },
  {
   "cell_type": "code",
   "execution_count": 35,
   "metadata": {},
   "outputs": [],
   "source": [
    "rule_array =[[\"予約語や変数間の空白\",\"input\\img\\空白・スペースのチェック.png\",\"classや関数、演算子前後を空白で整形する機能です。\"],\n",
    "[\"インデントのスペース数\", \"input\\img\\\\tabインデント.png\", \"インデントであけるスペースの数を設定できます。\"],\n",
    "[\"一行あたりの文字数\",\"input\\img\\一行文字.png\",\" 一行あたりの文字数を決めます。\"],\n",
    "[\"クラス・グローバル関数間の間隔\",\"input\\img\\メソッドブロック間の間隔.png\",\"クラス・グローバル関数ブロックの上下を2行空けるかを決めます。\"],\n",
    "[\"メソッドブロック間の間隔\",\"input\\img\\クラス・グローバル関数の間隔.png\", \"メソッドブロックの上下を1行空けるかを決めます。\"],\n",
    "[\"関数・クラスの命名規則\",\"input\\img\\CapWords形式.png\",\"変数の命名規則を決めます。チェック：CapWords, 未チェック：Snake\"],\n",
    "[\"変数の命名規則\", \"input\\img\\snake_case.png\",\"変数の命名規則を決めます。チェック：CapWords, 未チェック：Snake\"],\n",
    "[\"グルーピング\", \"input\\img\\グルーピング.png\",\"インポートを種類によって、振り分けを行う機能です。\"],\n",
    "[\"アルファベット順並び替え\", \"input\\img\\アルファベット順.png\", \"アルファベット順に並び替える機能です。\"],\n",
    "]"
   ]
  },
  {
   "cell_type": "code",
   "execution_count": 36,
   "metadata": {},
   "outputs": [
    {
     "data": {
      "text/plain": [
       "{'type': ' ', 'num': 4, 'tab_num': 4}"
      ]
     },
     "execution_count": 36,
     "metadata": {},
     "output_type": "execute_result"
    }
   ],
   "source": [
    "# rule_array[0]\n",
    "\n",
    "rule['style_check']['indent']"
   ]
  },
  {
   "cell_type": "code",
   "execution_count": 37,
   "metadata": {},
   "outputs": [
    {
     "data": {
      "text/plain": [
       "{'snake': False, 'CapWords': True}"
      ]
     },
     "execution_count": 37,
     "metadata": {},
     "output_type": "execute_result"
    }
   ],
   "source": [
    "\n",
    "rule['naming_check']['class_case']"
   ]
  },
  {
   "cell_type": "code",
   "execution_count": 38,
   "metadata": {},
   "outputs": [
    {
     "data": {
      "text/plain": [
       "[['予約語や変数間の空白',\n",
       "  'input\\\\img\\\\空白・スペースのチェック.png',\n",
       "  'classや関数、演算子前後を空白で整形する機能です。',\n",
       "  'チェック :  ON'],\n",
       " ['インデントのスペース数',\n",
       "  'input\\\\img\\\\tabインデント.png',\n",
       "  'インデントであけるスペースの数を設定できます。',\n",
       "  'スペース数 : 4'],\n",
       " ['一行あたりの文字数', 'input\\\\img\\\\一行文字.png', ' 一行あたりの文字数を決めます。', '1行あたりの文字 : 80文字 '],\n",
       " ['クラス・グローバル関数間の間隔',\n",
       "  'input\\\\img\\\\メソッドブロック間の間隔.png',\n",
       "  'クラス・グローバル関数ブロックの上下を2行空けるかを決めます。',\n",
       "  'チェック :  ON'],\n",
       " ['メソッドブロック間の間隔',\n",
       "  'input\\\\img\\\\クラス・グローバル関数の間隔.png',\n",
       "  'メソッドブロックの上下を1行空けるかを決めます。',\n",
       "  'チェック :  ON'],\n",
       " ['関数・クラスの命名規則',\n",
       "  'input\\\\img\\\\CapWords形式.png',\n",
       "  '変数の命名規則を決めます。チェック：CapWords, 未チェック：Snake',\n",
       "  'チェック済 : CapWords'],\n",
       " ['変数の命名規則',\n",
       "  'input\\\\img\\\\snake_case.png',\n",
       "  '変数の命名規則を決めます。チェック：CapWords, 未チェック：Snake',\n",
       "  '未チェック : snake_case'],\n",
       " ['アルファベット順並び替え',\n",
       "  'input\\\\img\\\\アルファベット順.png',\n",
       "  'アルファベット順に並び替える機能です。',\n",
       "  'チェック :  ON']]"
      ]
     },
     "execution_count": 38,
     "metadata": {},
     "output_type": "execute_result"
    }
   ],
   "source": [
    "adapted_rule = []\n",
    "if rule[\"style_check\"][\"blank_format\"]['action']:\n",
    "    rule_array[0].append(\"チェック :  ON\")\n",
    "    adapted_rule.append(rule_array[0])\n",
    "rule_array[1].append(f\"スペース数 : {rule['style_check']['indent']['num']}\")\n",
    "adapted_rule.append(rule_array[1]) #indent\n",
    "rule_array[2].append(f\"1行あたりの文字 : {rule['style_check']['count_word']['length']}文字 \")\n",
    "adapted_rule.append(rule_array[2]) #count_word\n",
    "if rule[\"style_check\"]['line_space']['class_or_global_func']['action']:\n",
    "    rule_array[3].append(\"チェック :  ON\")\n",
    "    adapted_rule.append(rule_array[3]) #'class_or_global_func'\n",
    "if rule[\"style_check\"]['line_space']['method']['action']:\n",
    "    rule_array[4].append(\"チェック :  ON\")\n",
    "    adapted_rule.append(rule_array[4]) #method\n",
    "if rule['naming_check']['class_case']['snake']:\n",
    "    rule_array[5].append(\"未チェック : snake_case\")\n",
    "else:\n",
    "    rule_array[5].append(\"チェック済 : CapWords\")\n",
    "adapted_rule.append(rule_array[5]) #class and method _case\n",
    "\n",
    "if rule['naming_check']['value_case']['snake']:\n",
    "    rule_array[6].append(\"未チェック : snake_case\")\n",
    "else:\n",
    "    rule_array[6].append(\"チェック済 : CapWords\")\n",
    "adapted_rule.append(rule_array[6]) #variable_case\n",
    "\n",
    "if rule['import_check']['grouping']:\n",
    "    rule_array[7].append(\"チェック :  ON\")\n",
    "    adapted_rule.append(rule_array[7]) #grouping\n",
    "\n",
    "\n",
    "if rule['import_check']['sorting']:\n",
    "    rule_array[8].append(\"チェック :  ON\")\n",
    "    adapted_rule.append(rule_array[8]) #sorting\n",
    "adapted_rule"
   ]
  },
  {
   "cell_type": "code",
   "execution_count": 39,
   "metadata": {},
   "outputs": [
    {
     "data": {
      "text/plain": [
       "{'class_case': {'snake': False, 'CapWords': True},\n",
       " 'method_case': {'snake': True, 'CapWords': False},\n",
       " 'value_case': {'snake': True, 'CapWords': False}}"
      ]
     },
     "execution_count": 39,
     "metadata": {},
     "output_type": "execute_result"
    }
   ],
   "source": [
    "rule[\"naming_check\"]"
   ]
  },
  {
   "cell_type": "code",
   "execution_count": 40,
   "metadata": {},
   "outputs": [],
   "source": [
    "def pts_to_mm(pts) -> float:\n",
    "    \"\"\"\n",
    "    ptsからmmに変換します\n",
    "    :param pts:\n",
    "    :return:\n",
    "    \"\"\"\n",
    "    return float(pts) * 0.352778\n",
    "\n",
    "\n",
    "def mm_to_pts(mm) -> float:\n",
    "    \"\"\"\n",
    "    mmからptsに変換します\n",
    "    :param mm:\n",
    "    :return:\n",
    "    \"\"\"\n",
    "    return float(mm) / 0.352778"
   ]
  },
  {
   "cell_type": "code",
   "execution_count": 41,
   "metadata": {},
   "outputs": [
    {
     "name": "stderr",
     "output_type": "stream",
     "text": [
      "FitzDeprecation: 'insertPDF' removed from class 'Document' after v1.19.0 - use 'insert_pdf'. [__init__.py:169]\n",
      "FitzDeprecation: 'loadPage' removed from class 'Document' after v1.19.0 - use 'load_page'. [__init__.py:169]\n",
      "FitzDeprecation: 'insertText' removed from class 'Page' after v1.19.0 - use 'insert_text'. [__init__.py:169]\n"
     ]
    }
   ],
   "source": [
    "# pdf_file_path = './PDF_plane.pdf'\n",
    "pdf_file_path = './見本.pdf'\n",
    "insert_text = \"こんにちは\"\n",
    "\n",
    "# 既存PDFの読み取り\n",
    "reader = fitz.open(pdf_file_path)\n",
    "writer = fitz.open()\n",
    "# 既存PDFの1ページ目を新規PDFに流し込む\n",
    "writer.insertPDF(reader, from_page=0, to_page=0)\n",
    "# 既存PDFの1ページを読み込む\n",
    "page = writer.loadPage(0)\n",
    "# 挿入位置(mmをptsに変えて指定)\n",
    "target_x, target_y = mm_to_pts(50), mm_to_pts(10)\n",
    "p = fitz.Point(target_x, target_y)  # start point of 1st line\n",
    "rc = page.insertText(p,  # bottom-left of 1st char\n",
    "                        insert_text,  # the text (honors '\\n')\n",
    "                        # fontname=\"helv\",  # the default font\n",
    "                        fontsize=16,  # the default font size\n",
    "                        rotate=0,  # also available: 90, 180, 270\n",
    "                        )\n",
    "# 出力名\n",
    "output_name = \"PyMuPDF.pdf\"\n",
    "writer.save(output_name)"
   ]
  },
  {
   "cell_type": "code",
   "execution_count": 42,
   "metadata": {},
   "outputs": [
    {
     "name": "stdout",
     "output_type": "stream",
     "text": [
      "fitz.Document Object: <class 'fitz.fitz.Document'>\n",
      "Title:, Author: \n",
      "コーディングルール適⽤リスト\n",
      "ルール名\n",
      "ルールの説明を記載。テキスト⼊⼒テキスト⼊⼒テキスト⼊⼒テキス \n",
      "ト⼊⼒テキスト⼊⼒テキスト⼊⼒テキスト⼊⼒テキスト⼊⼒テキスト \n",
      "⼊⼒テキスト⼊⼒テキスト⼊⼒テキスト⼊⼒テキスト⼊⼒テキスト⼊\n",
      "ルール名\n",
      "ルールの説明を記載。テキスト⼊⼒テキスト⼊⼒テキスト⼊⼒テキス \n",
      "ト⼊⼒テキスト⼊⼒テキスト⼊⼒テキスト⼊⼒テキスト⼊⼒テキスト \n",
      "⼊⼒テキスト⼊⼒テキスト⼊⼒テキスト⼊⼒テキスト⼊⼒テキスト⼊\n",
      "ルール名\n",
      "ルールの説明を記載。テキスト⼊⼒テキスト⼊⼒テキスト⼊⼒テキス \n",
      "ト⼊⼒テキスト⼊⼒テキスト⼊⼒テキスト⼊⼒テキスト⼊⼒テキスト \n",
      "⼊⼒テキスト⼊⼒テキスト⼊⼒テキスト⼊⼒テキスト⼊⼒テキスト⼊\n",
      "ルール名\n",
      "ルールの説明を記載。テキスト⼊⼒テキスト⼊⼒テキスト⼊⼒テキス \n",
      "ト⼊⼒テキスト⼊⼒テキスト⼊⼒テキスト⼊⼒テキスト⼊⼒テキスト \n",
      "⼊⼒テキスト⼊⼒テキスト⼊⼒テキスト⼊⼒テキスト⼊⼒テキスト⼊\n",
      "ルール名\n",
      "ルールの説明を記載。テキスト⼊⼒テキスト⼊⼒テキスト⼊⼒テキス \n",
      "ト⼊⼒テキスト⼊⼒テキスト⼊⼒テキスト⼊⼒テキスト⼊⼒テキスト \n",
      "⼊⼒テキスト⼊⼒テキスト⼊⼒テキスト⼊⼒テキスト⼊⼒テキスト⼊\n",
      "ルール名\n",
      "ルールの説明を記載。テキスト⼊⼒テキスト⼊⼒テキスト⼊⼒テキス \n",
      "ト⼊⼒テキスト⼊⼒テキスト⼊⼒テキスト⼊⼒テキスト⼊⼒テキスト \n",
      "⼊⼒テキスト⼊⼒テキスト⼊⼒テキスト⼊⼒テキスト⼊⼒テキスト⼊\n",
      "\n"
     ]
    }
   ],
   "source": [
    "import fitz\n",
    "# pdf_file_path = '1803.03453.pdf'\n",
    "with fitz.open(pdf_file_path) as pdf_in:\n",
    "    print(f\"fitz.Document Object: {type(pdf_in)}\")\n",
    "    pdf_title, pdf_author = pdf_in.metadata[\"title\"], pdf_in.metadata[\"author\"]\n",
    "    print(f\"Title:{pdf_title}, Author: {pdf_author}\")\n",
    "    for page in pdf_in:\n",
    "        print(page.get_text())\n",
    "        # for block in page.get_text(\"dict\")[\"blocks\"]:\n",
    "        #     print(block)\n",
    "        #     break\n",
    "        # break\n"
   ]
  },
  {
   "cell_type": "code",
   "execution_count": 43,
   "metadata": {},
   "outputs": [],
   "source": [
    "\n",
    "\n",
    "# str_limit = \"\"\"\n",
    "# ### 一行あたりの文字数\n",
    "\n",
    "# ![](input\\img\\一行文字.png)　 一行あたりの文字数を決めます。\n",
    "\n",
    "# \"\"\"\n",
    "# func_interval = \"\"\"\n",
    "# ### クラス・グローバル関数間の間隔\n",
    "\n",
    "# ![](input\\img\\クラス・グローバル関数の間隔.png)　クラス・グローバル関数ブロックの上下を2行空けるかを決めます。\n",
    "\n",
    "# \"\"\"\n",
    "# method_interval = \"\"\"\n",
    "# ### メソッドブロック間の間隔\n",
    "\n",
    "# ![](input\\img\\メソッドブロック間の間隔.png)　メソッドブロックの上下を1行空けるかを決めます。\n",
    "\n",
    "# \"\"\"\n",
    "\n",
    "# grouping = \"\"\"\n",
    "# ### グルーピング\n",
    "\n",
    "# ![](input\\img\\グルーピング.png)　インポートを種類によって、振り分けを行う機能です。\n",
    "\n",
    "# \"\"\"\n",
    "\n",
    "# import_sort = \"\"\"\n",
    "# ### アルファベット順並び替え\n",
    "\n",
    "# ![](input\\img\\snake_case.png)　アルファベット順に並び替える機能です。\n",
    "\n",
    "# \"\"\"\n",
    "# space = \"\"\"\n",
    "# ### 予約語や変数間の空白\n",
    "\n",
    "# ![](input\\img\\空白・スペースのチェック.png)　classや関数、演算子前後を空白で整形する機能です。\n",
    "\n",
    "# \"\"\"\n",
    "\n",
    "# func_names = \"\"\"\n",
    "# ### 関数・クラスの命名規則\n",
    "\n",
    "# ![](input\\img\\CapWords形式.png)　変数の命名規則を決めます。<br> チェック：CapWords<br>未チェック：Snake\n",
    "# \"\"\"\n",
    "\n",
    "# var_names = \"\"\"\n",
    "# ### 変数の命名規則\n",
    "\n",
    "# ![](input\\img\\snake_case.png) 変数の命名規則を決めます。<br> チェック：CapWords<br>未チェック：Snake\n",
    "# \"\"\""
   ]
  },
  {
   "cell_type": "code",
   "execution_count": 44,
   "metadata": {},
   "outputs": [
    {
     "data": {
      "text/plain": [
       "{'style_check': {'blank_format': {'action': True},\n",
       "  'indent': {'type': ' ', 'num': 4, 'tab_num': 4},\n",
       "  'count_word': {'action': True, 'length': 80},\n",
       "  'line_space': {'class_or_global_func': {'action': True},\n",
       "   'method': {'action': True}}},\n",
       " 'naming_check': {'class_case': {'snake': False, 'CapWords': True},\n",
       "  'method_case': {'snake': True, 'CapWords': False},\n",
       "  'value_case': {'snake': True, 'CapWords': False}},\n",
       " 'import_check': {'grouping': False, 'sorting': True}}"
      ]
     },
     "execution_count": 44,
     "metadata": {},
     "output_type": "execute_result"
    }
   ],
   "source": [
    "rule"
   ]
  },
  {
   "cell_type": "code",
   "execution_count": 45,
   "metadata": {},
   "outputs": [],
   "source": [
    "    \n",
    "    # image_pathes = [\n",
    "    #     \"/tmp/img/brank_check.png\",\n",
    "    #     \"/tmp/img/brank_check.png\",\n",
    "    #     \"/tmp/img/brank_check.png\",\n",
    "    #     \"/tmp/img/line_count.png\",\n",
    "    #     \"/tmp/img/snake_case.png\",\n",
    "    #     \"/tmp/img/CapWords.png\",\n",
    "    #     \"/tmp/img/snake_case.png\",\n",
    "    #     \"/tmp/img/alpa.png\",\n",
    "    #     \"/tmp/img/group.png\",\n",
    "    #     \"/tmp/img/global.png\",\n",
    "    #     \"/tmp/img/method.png\"\n",
    "    # ]\n",
    "    \n",
    "    # txt_lst = [\n",
    "    #     \"空白(関数)\",\n",
    "    #     \"空白(クラス)\",\n",
    "    #     \"空白(その他)\",\n",
    "    #     \"1行の最大文字数\",\n",
    "    #     \"命名-関数\",\n",
    "    #     \"命名-クラス\",\n",
    "    #     \"命名-変数\",\n",
    "    #     \"import ソート\",\n",
    "    #     \"import グループ\",\n",
    "    #     \"間隔 グローバル\",\n",
    "    #     \"間隔 クラスメソッド\"\n",
    "    # ]"
   ]
  },
  {
   "cell_type": "code",
   "execution_count": 46,
   "metadata": {},
   "outputs": [
    {
     "data": {
      "text/plain": [
       "'1行あたりの文字 : 80文字 '"
      ]
     },
     "execution_count": 46,
     "metadata": {},
     "output_type": "execute_result"
    }
   ],
   "source": [
    "adapted_rule[2][3]"
   ]
  },
  {
   "cell_type": "code",
   "execution_count": 33,
   "metadata": {},
   "outputs": [],
   "source": [
    "from PyPDF2 import PdfFileWriter, PdfFileReader,PdfFileMerger\n",
    "from reportlab.pdfgen import canvas\n",
    "from reportlab.lib.pagesizes import A4, portrait\n",
    "from reportlab.lib.units import inch, mm, cm\n",
    "from reportlab.pdfbase import pdfmetrics\n",
    "from reportlab.pdfbase.ttfonts import TTFont\n",
    "\n",
    "# ファイルの指定\n",
    "template_file = './PDF_plane.pdf' # 既存のテンプレートPDF\n",
    "output_file = './output.pdf' # 完成したPDFの保存先\n",
    "tmp_file = './__tmp.pdf' # 一時ファイル\n",
    "\n",
    "# A4縦のCanvasを作成 -- (*1)\n",
    "w, h = portrait(A4)\n",
    "cv = canvas.Canvas(tmp_file, pagesize=(w, h))\n",
    "cv2 = canvas.Canvas(tmp_file, pagesize=(w, h))\n",
    "\n",
    "# フォントを登録しCanvasに設定 --- (*2)\n",
    "ttf_file = './ipaexg.ttf'\n",
    "pdfmetrics.registerFont(TTFont('IPAexGothic', ttf_file))\n",
    "\n",
    "head_pos = 42\n",
    "rule_num = 0\n",
    "cv.setFillColorRGB(0, 0, 0)\n",
    "str_interval = 43\n",
    "\n",
    "for i in range(len(adapted_rule)):\n",
    "  if i<=5:\n",
    "    # 文字列を描画する --- (*3)\n",
    "    # タイトル設定\n",
    "    cv.setFont('IPAexGothic', 14)\n",
    "    cv.drawString(80*mm, h-(head_pos+str_interval*(rule_num % 6))*mm, adapted_rule[rule_num][0])\n",
    "    cv.setFont('IPAexGothic', 10)\n",
    "    cv.drawString(80*mm, h-((head_pos+10)+str_interval*(rule_num % 6))*mm, adapted_rule[rule_num][2])\n",
    "    cv.setFont('IPAexGothic', 15)\n",
    "    cv.drawString(80*mm, h-((head_pos+25)+str_interval*(rule_num % 6))*mm, adapted_rule[rule_num][3])\n",
    "    #画像を挿入\n",
    "    cv.drawImage(adapted_rule[rule_num][1], 15*mm, h-(70+43*(rule_num % 6))*mm)\n",
    "    rule_num += 1\n",
    "  elif i<=11:\n",
    "    # 文字列を描画する --- (*3)\n",
    "    # タイトル設定\n",
    "    cv2.setFont('IPAexGothic', 14)\n",
    "    cv2.drawString(80*mm, h-(head_pos+str_interval*(rule_num % 6))*mm, adapted_rule[rule_num][0])\n",
    "    cv2.setFont('IPAexGothic', 10)\n",
    "    cv2.drawString(80*mm, h-((head_pos+10)+str_interval*(rule_num % 6))*mm, adapted_rule[rule_num][2])\n",
    "    cv2.setFont('IPAexGothic', 15)\n",
    "    cv2.drawString(80*mm, h-((head_pos+25)+str_interval*(rule_num % 6))*mm, adapted_rule[rule_num][3])\n",
    "    #画像を挿入\n",
    "    cv2.drawImage(adapted_rule[rule_num][1], 15*mm, h-(70+43*(rule_num % 6))*mm)\n",
    "    rule_num += 1\n",
    "\n",
    "if len(adapted_rule)<=6:\n",
    "  # 一時ファイルに保存 --- (*4)\n",
    "  cv.showPage()\n",
    "  cv.save()\n",
    "\n",
    "  # テンプレートとなるPDFを読む --- (*5)\n",
    "  template_pdf = PdfFileReader(template_file)\n",
    "  template_page = template_pdf.getPage(0)\n",
    "\n",
    "  # 一時ファイルを読んで合成する --- (*6)\n",
    "  tmp_pdf = PdfFileReader(tmp_file)\n",
    "  template_page.mergePage(tmp_pdf.getPage(0))\n",
    "  # 書き込み先PDFを用意 --- (*7)\n",
    "  output = PdfFileWriter()\n",
    "  output.addPage(template_page)\n",
    "\n",
    "\n",
    "elif len(adapted_rule)<=12:\n",
    "  # 一時ファイルに保存 --- (*4)\n",
    "  cv.showPage()\n",
    "  cv.save()\n",
    "\n",
    "  # テンプレートとなるPDFを読む --- (*5)\n",
    "  template_pdf = PdfFileReader('./PDF_plane2.pdf')\n",
    "  template_page = template_pdf.getPage(0)\n",
    "\n",
    "  # 一時ファイルを読んで合成する --- (*6)\n",
    "  tmp_pdf = PdfFileReader(tmp_file)\n",
    "  template_page.mergePage(tmp_pdf.getPage(0))\n",
    "  # 書き込み先PDFを用意 --- (*7)\n",
    "  output = PdfFileWriter()\n",
    "  output.addPage(template_page)\n",
    "\n",
    "  # 一時ファイルに保存 --- (*4)\n",
    "  cv2.showPage()\n",
    "  cv2.save()\n",
    "  # テンプレートとなるPDFを読む --- (*5)\n",
    "  template_page = template_pdf.getPage(1)\n",
    "  # 一時ファイルを読んで合成する --- (*6)\n",
    "  tmp_pdf = PdfFileReader(tmp_file)\n",
    "  template_page.mergePage(tmp_pdf.getPage(0))\n",
    "  output.addPage(template_page)\n",
    "\n",
    "\n",
    "\n",
    "with open(output_file, \"wb\") as fp:\n",
    "  output.write(fp)\n",
    "\n",
    "\n",
    "\n"
   ]
  },
  {
   "cell_type": "code",
   "execution_count": 115,
   "metadata": {},
   "outputs": [],
   "source": [
    "\n",
    "# fp_in1 = open(template_file, 'rb')   # 1つ目の既存PDFファイルのFileオブジェクトを'rb'モードで取得\n",
    "# mgr = PdfFileMerger() # PdfFileMergerオブジェクトの取得\n",
    "# mgr.append(fp_in1)\n",
    "# mgr.append(fp_in1)\n",
    "# fp_out = open('./PDF_plane2.pdf', 'wb')   # 1つ目の既存PDFファイルのFileオブジェクトを'rb'モードで取得\n",
    "# mgr.write(fp_out)                 # PdfFileMergerオブジェクトをFileオブジェクトに書き出し\n",
    "# fp_out.close()\n",
    "# fp_in1.close()\n",
    "\n"
   ]
  },
  {
   "cell_type": "code",
   "execution_count": 114,
   "metadata": {},
   "outputs": [
    {
     "data": {
      "text/plain": [
       "'./PDF_plane.pdf'"
      ]
     },
     "execution_count": 114,
     "metadata": {},
     "output_type": "execute_result"
    }
   ],
   "source": [
    "template_file"
   ]
  },
  {
   "cell_type": "code",
   "execution_count": 82,
   "metadata": {},
   "outputs": [],
   "source": [
    "from PyPDF2 import PdfFileWriter, PdfFileReader\n",
    "from reportlab.pdfgen import canvas\n",
    "from reportlab.lib.pagesizes import A4, portrait\n",
    "from reportlab.lib.units import inch, mm, cm\n",
    "from reportlab.pdfbase import pdfmetrics\n",
    "from reportlab.pdfbase.ttfonts import TTFont\n",
    "\n",
    "# ファイルの指定\n",
    "template_file = './PDF_plane.pdf' # 既存のテンプレートPDF\n",
    "output_file = './output.pdf' # 完成したPDFの保存先\n",
    "tmp_file = './__tmp.pdf' # 一時ファイル\n",
    "\n",
    "# A4縦のCanvasを作成 -- (*1)\n",
    "w, h = portrait(A4)\n",
    "cv = canvas.Canvas(tmp_file, pagesize=(w, h))\n",
    "\n",
    "# フォントを登録しCanvasに設定 --- (*2)\n",
    "font_size = 14\n",
    "ttf_file = './ipaexg.ttf'\n",
    "pdfmetrics.registerFont(TTFont('IPAexGothic', ttf_file))\n",
    "cv.setFont('IPAexGothic', font_size)\n",
    "\n",
    "head_pos = 42\n",
    "rule_num = 0\n",
    "\n",
    "# 文字列を描画する --- (*3)\n",
    "cv.setFont('IPAexGothic', 14)\n",
    "cv.setFillColorRGB(0, 0, 0)\n",
    "rule_num += 1\n",
    "str_interval = 43\n",
    "# 文字列を描画する --- (*3)\n",
    "# タイトル設定\n",
    "cv.setFont('IPAexGothic', 14)\n",
    "cv.drawString(80*mm, h-(head_pos+str_interval*(rule_num % 6))*mm, rule_array[rule_num][0])\n",
    "cv.setFont('IPAexGothic', 10)\n",
    "cv.drawString(80*mm, h-((head_pos+10)+str_interval*(rule_num % 6))*mm, rule_array[rule_num][2])\n",
    "#画像を挿入\n",
    "cv.drawImage(rule_array[rule_num][1], 15*mm, h-(70+43*(rule_num % 6))*mm)\n",
    "\n",
    "\n",
    "rule_num += 1\n",
    "str_interval = 43\n",
    "# 文字列を描画する --- (*3)\n",
    "# タイトル設定\n",
    "cv.setFont('IPAexGothic', 14)\n",
    "cv.drawString(80*mm, h-(head_pos+str_interval*(rule_num % 6))*mm, rule_array[rule_num][0])\n",
    "cv.setFont('IPAexGothic', 10)\n",
    "cv.drawString(80*mm, h-((head_pos+10)+str_interval*(rule_num % 6))*mm, rule_array[rule_num][2])\n",
    "#画像を挿入\n",
    "cv.drawImage(rule_array[rule_num][1], 15*mm, h-(70+43*(rule_num % 6))*mm)\n",
    "\n",
    "rule_num += 1\n",
    "str_interval = 43\n",
    "# 文字列を描画する --- (*3)\n",
    "# タイトル設定\n",
    "cv.setFont('IPAexGothic', 14)\n",
    "cv.drawString(80*mm, h-(head_pos+str_interval*(rule_num % 6))*mm, rule_array[rule_num][0])\n",
    "cv.setFont('IPAexGothic', 10)\n",
    "cv.drawString(80*mm, h-((head_pos+10)+str_interval*(rule_num % 6))*mm, rule_array[rule_num][2])\n",
    "#画像を挿入\n",
    "cv.drawImage(rule_array[rule_num][1], 15*mm, h-(70+43*(rule_num % 6))*mm)\n",
    "\n",
    "rule_num += 1\n",
    "str_interval = 43\n",
    "# 文字列を描画する --- (*3)\n",
    "# タイトル設定\n",
    "cv.setFont('IPAexGothic', 14)\n",
    "cv.drawString(80*mm, h-(head_pos+str_interval*(rule_num % 6))*mm, rule_array[rule_num][0])\n",
    "cv.setFont('IPAexGothic', 10)\n",
    "cv.drawString(80*mm, h-((head_pos+10)+str_interval*(rule_num % 6))*mm, rule_array[rule_num][2])\n",
    "#画像を挿入\n",
    "cv.drawImage(rule_array[rule_num][1], 15*mm, h-(70+43*(rule_num % 6))*mm)\n",
    "\n",
    "rule_num += 1\n",
    "str_interval = 43\n",
    "# 文字列を描画する --- (*3)\n",
    "# タイトル設定\n",
    "cv.setFont('IPAexGothic', 14)\n",
    "cv.drawString(80*mm, h-(head_pos+str_interval*(rule_num % 6))*mm, rule_array[rule_num][0])\n",
    "cv.setFont('IPAexGothic', 10)\n",
    "cv.drawString(80*mm, h-((head_pos+10)+str_interval*(rule_num % 6))*mm, rule_array[rule_num][2])\n",
    "#画像を挿入\n",
    "cv.drawImage(rule_array[rule_num][1], 15*mm, h-(70+43*(rule_num % 6))*mm)\n",
    "\n",
    "\n",
    "# cv.drawImage(img_path, 15*mm, h-70*mm)\n",
    "# cv.drawImage(img_path, 10*mm, h-70*mm, width=45*mm, height= 27*mm)\n",
    "\n",
    "# 一時ファイルに保存 --- (*4)\n",
    "cv.showPage()\n",
    "cv.save()\n",
    "\n",
    "# テンプレートとなるPDFを読む --- (*5)\n",
    "template_pdf = PdfFileReader(template_file)\n",
    "template_page = template_pdf.getPage(0)\n",
    "\n",
    "# 一時ファイルを読んで合成する --- (*6)\n",
    "tmp_pdf = PdfFileReader(tmp_file)\n",
    "template_page.mergePage(tmp_pdf.getPage(0))\n",
    "\n",
    "# 書き込み先PDFを用意 --- (*7)\n",
    "output = PdfFileWriter()\n",
    "output.addPage(template_page)\n",
    "with open(output_file, \"wb\") as fp:\n",
    "  output.write(fp)"
   ]
  },
  {
   "cell_type": "code",
   "execution_count": 65,
   "metadata": {},
   "outputs": [
    {
     "data": {
      "text/plain": [
       "['メソッドブロック間の間隔', 'input\\\\img\\\\メソッドブロック間の間隔.png', 'メソッドブロックの上下を1行空けるかを決めます。']"
      ]
     },
     "execution_count": 65,
     "metadata": {},
     "output_type": "execute_result"
    }
   ],
   "source": [
    "rule_array[4]"
   ]
  },
  {
   "cell_type": "code",
   "execution_count": null,
   "metadata": {},
   "outputs": [],
   "source": [
    "rule = {\"style_check\": {\n",
    "        \"blank_format\": {\n",
    "            \"action\": True\n",
    "        },\n",
    "        \"indent\": {\n",
    "            \"type\": \" \",\n",
    "            \"num\": 4,\n",
    "            \"tab_num\": 4\n",
    "        },\n",
    "        \"count_word\": {\n",
    "            \"action\": True,\n",
    "            \"length\": 80\n",
    "        },\n",
    "        \"line_space\": {\n",
    "            \"class_or_global_func\": {\n",
    "                \"action\": True\n",
    "            },\n",
    "            \"method\": {\n",
    "                \"action\": True\n",
    "            }\n",
    "        }\n",
    "    },\n",
    "    \"naming_check\": {\n",
    "        \"class_case\": {\n",
    "            \"snake\": False,\n",
    "            \"CapWords\": True\n",
    "        },\n",
    "        \"method_case\": {\n",
    "            \"snake\": True,\n",
    "            \"CapWords\": False\n",
    "        },\n",
    "        \"value_case\": {\n",
    "            \"snake\": False,\n",
    "            \"CapWords\": True\n",
    "        }\n",
    "    },\n",
    "    \"import_check\": {\n",
    "        \"grouping\": True,\n",
    "        \"sorting\": True\n",
    "    }\n",
    "}"
   ]
  }
 ],
 "metadata": {
  "interpreter": {
   "hash": "88245c6e30ac34ec6d01af59c545973e4e5ad82c3385e22c727224d5816d4503"
  },
  "kernelspec": {
   "display_name": "Python 3.8.12 64-bit (conda)",
   "language": "python",
   "name": "python3"
  },
  "language_info": {
   "codemirror_mode": {
    "name": "ipython",
    "version": 3
   },
   "file_extension": ".py",
   "mimetype": "text/x-python",
   "name": "python",
   "nbconvert_exporter": "python",
   "pygments_lexer": "ipython3",
   "version": "3.8.12"
  },
  "orig_nbformat": 4
 },
 "nbformat": 4,
 "nbformat_minor": 2
}
